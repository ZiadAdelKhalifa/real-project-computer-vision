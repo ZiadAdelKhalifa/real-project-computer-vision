{
 "cells": [
  {
   "cell_type": "code",
   "execution_count": 62,
   "id": "46a9fd59",
   "metadata": {},
   "outputs": [
    {
     "data": {
      "text/plain": [
       "\"\\ndef remove_non_arabic_spaces_and_newlines(text):\\n            # Define a regular expression pattern to match characters that are not Arabic letters, spaces, or newlines\\n            pattern = r'[^اأإءبتثجحخدذرزسشصضطظعغفقكلمنهويى\\n ]'\\n            # Use the sub() function from the re module to replace all non-Arabic letters, spaces, and newlines with an empty string\\n            text_cleaned = re.sub(pattern, '', text)\\n            return text_cleaned\\n            \\n\""
      ]
     },
     "execution_count": 62,
     "metadata": {},
     "output_type": "execute_result"
    }
   ],
   "source": [
    "import cv2\n",
    "import pytesseract\n",
    "import pandas as pd\n",
    "import os\n",
    "os.chdir(r'E:\\ElectroPi\\Egyption National card id')\n",
    "\n",
    "pytesseract.pytesseract.tesseract_cmd=r'E:\\ElectroPi\\Egyption National card id\\tesseract\\tesseract.exe'\n",
    "\"\"\"\n",
    "def remove_non_arabic_spaces_and_newlines(text):\n",
    "            # Define a regular expression pattern to match characters that are not Arabic letters, spaces, or newlines\n",
    "            pattern = r'[^اأإءبتثجحخدذرزسشصضطظعغفقكلمنهويى\\n ]'\n",
    "            # Use the sub() function from the re module to replace all non-Arabic letters, spaces, and newlines with an empty string\n",
    "            text_cleaned = re.sub(pattern, '', text)\n",
    "            return text_cleaned\n",
    "            \n",
    "\"\"\""
   ]
  },
  {
   "cell_type": "code",
   "execution_count": null,
   "id": "a08f5af5",
   "metadata": {},
   "outputs": [],
   "source": [
    "import cv2\n",
    "import numpy as np\n",
    "\n",
    "def passfunction(x):\n",
    "    pass\n",
    "\n",
    "cv2.namedWindow('tracking')\n",
    "cv2.createTrackbar('LH', 'tracking', 0, 255, passfunction)\n",
    "cv2.createTrackbar('UH', 'tracking', 255, 255, passfunction)\n",
    "cv2.createTrackbar('LS', 'tracking', 0, 255, passfunction)\n",
    "cv2.createTrackbar('US', 'tracking', 255, 255, passfunction)\n",
    "cv2.createTrackbar('LV', 'tracking', 0, 255, passfunction)\n",
    "cv2.createTrackbar('UV', 'tracking', 255, 255, passfunction)\n",
    "\n",
    "print(\"Trackbars created\")\n",
    "\n",
    "while True:\n",
    "    frame = cv2.imread('2.jpeg', 1)\n",
    "\n",
    "    # Check if the image is loaded successfully\n",
    "    if frame is None:\n",
    "        print(\"Error: Image not found\")\n",
    "        break\n",
    "\n",
    "    # Specify the new dimensions\n",
    "    new_width = 600\n",
    "    new_height = 400\n",
    "\n",
    "    # Resize the image\n",
    "    frame = cv2.resize(frame, (new_width, new_height))\n",
    "\n",
    "    hsv = cv2.cvtColor(frame, cv2.COLOR_BGR2HSV)\n",
    "    lh = cv2.getTrackbarPos('LH', 'tracking')\n",
    "    uh = cv2.getTrackbarPos('UH', 'tracking')\n",
    "    ls = cv2.getTrackbarPos('LS', 'tracking')\n",
    "    us = cv2.getTrackbarPos('US', 'tracking')\n",
    "    lv = cv2.getTrackbarPos('LV', 'tracking')\n",
    "    uv = cv2.getTrackbarPos('UV', 'tracking')\n",
    "    lower_region = np.array([lh, ls, lv])\n",
    "    upper_region = np.array([uh, us, uv])\n",
    "    mask = cv2.inRange(hsv, lower_region, upper_region)\n",
    "    res = cv2.bitwise_and(frame, frame, mask=mask)\n",
    "\n",
    "    # Display the original frame, mask, and result\n",
    "    cv2.imshow('frame', frame)\n",
    "    cv2.imshow('mask', mask)\n",
    "    cv2.imshow('res', res)\n",
    "    text = pytesseract.image_to_string(mask, lang='ara')\n",
    "\n",
    "    # Print the recognized text\n",
    "    print('##########################################')\n",
    "    print(\"Recognized Text:\", text)\n",
    "    print('##########################################')\n",
    "    \n",
    "    button = cv2.waitKey(1) & 0xff\n",
    "    if button == ord('q'):\n",
    "        break\n",
    "    elif button == ord('s'):\n",
    "        text_data = {'Text': [text]}  # Create a dictionary with the cleaned text as value and a specific column name 'Text'\n",
    "\n",
    "        # Create a DataFrame from the text data\n",
    "        df = pd.DataFrame(text_data)\n",
    "\n",
    "        # Save the DataFrame to an Excel file\n",
    "        df.to_excel('text_data.xlsx', index=False)\n",
    "\n",
    "        print(\"Text saved to 'text_data.xlsx'\")\n",
    "cv2.destroyAllWindows()\n"
   ]
  }
 ],
 "metadata": {
  "kernelspec": {
   "display_name": "vision",
   "language": "python",
   "name": "vision"
  },
  "language_info": {
   "codemirror_mode": {
    "name": "ipython",
    "version": 3
   },
   "file_extension": ".py",
   "mimetype": "text/x-python",
   "name": "python",
   "nbconvert_exporter": "python",
   "pygments_lexer": "ipython3",
   "version": "3.8.18"
  }
 },
 "nbformat": 4,
 "nbformat_minor": 5
}
