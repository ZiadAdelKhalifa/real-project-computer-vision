{
 "cells": [
  {
   "cell_type": "code",
   "execution_count": 5,
   "id": "b580710a",
   "metadata": {},
   "outputs": [
    {
     "data": {
      "text/plain": [
       "'       \\nimport cv2\\n\\n# Load the image\\nimg = cv2.imread(\\'face.jpg\\')\\ngray = cv2.cvtColor(img, cv2.COLOR_BGR2GRAY)  # Convert the image to grayscale\\n\\n# Load the face and eye cascade classifiers\\nfaceCascade = cv2.CascadeClassifier(cv2.data.haarcascades + \\'haarcascade_frontalface_default.xml\\')\\neyecas = cv2.CascadeClassifier(cv2.data.haarcascades + \\'haarcascade_eye_tree_eyeglasses.xml\\')\\n\\n# Detect faces\\nfaces = faceCascade.detectMultiScale(gray, scaleFactor=1.1, minNeighbors=4)\\n\\n# Iterate through detected faces\\nfor (x, y, w, h) in faces:\\n    cv2.rectangle(img, (x, y), (x + w, y + h), (255, 0, 0), 3)\\n    cv2.putText(img, \"Face\", (x, y - 4), cv2.FONT_HERSHEY_COMPLEX, 1, (255, 255, 255), 2)\\n\\n    # Region of interest (ROI) for eyes within the detected face\\n    roi_gray = gray[y:y + h, x:x + w]\\n    roi_color = img[y:y + h, x:x + w]\\n\\n    # Detect eyes within the ROI\\n    eyes = eyecas.detectMultiScale(roi_gray, scaleFactor=1.1, minNeighbors=4)\\n    \\n    # Iterate through detected eyes\\n    for (ex, ey, ew, eh) in eyes:\\n        cv2.rectangle(roi_color, (ex, ey), (ex + ew, ey + eh), (0, 255, 0), 3)\\n        cv2.putText(roi_color, \"Eye\", (ex, ey - 4), cv2.FONT_HERSHEY_COMPLEX, 0.7, (0, 255, 0), 2)\\n\\n# Display the image with detections\\ncv2.imshow(\\'Detected Faces and Eyes\\', img)\\ncv2.waitKey(0)\\ncv2.destroyAllWindows()\\n'"
      ]
     },
     "execution_count": 5,
     "metadata": {},
     "output_type": "execute_result"
    }
   ],
   "source": [
    "\n",
    "import cv2\n",
    "\n",
    "# Load Haar Cascade classifiers for face and eye detection\n",
    "faceCascade = cv2.CascadeClassifier(cv2.data.haarcascades + 'haarcascade_frontalface_default.xml')\n",
    "eyeCascade = cv2.CascadeClassifier(cv2.data.haarcascades + 'haarcascade_eye.xml')\n",
    "\n",
    "cap = cv2.VideoCapture(0)\n",
    "\n",
    "while cap.isOpened():\n",
    "    _, img = cap.read()\n",
    "    gray = cv2.cvtColor(img, cv2.COLOR_BGR2GRAY)\n",
    "\n",
    "    # Detect faces\n",
    "    faces = faceCascade.detectMultiScale(gray, scaleFactor=1.3, minNeighbors=5, minSize=(30, 30))\n",
    "\n",
    "    for (x, y, w, h) in faces:\n",
    "        cv2.rectangle(img, (x, y), (x+w, y+h), (255, 0, 0), 3)\n",
    "\n",
    "        # Region of Interest (ROI) for the detected face\n",
    "        roi_gray = gray[y:y+h, x:x+w]\n",
    "        roi_color = img[y:y+h, x:x+w]\n",
    "\n",
    "        # Detect eyes within the face region\n",
    "        eyes = eyeCascade.detectMultiScale(roi_gray, scaleFactor=1.1, minNeighbors=5, minSize=(20, 20))\n",
    "        for (ex, ey, ew, eh) in eyes:\n",
    "            cv2.rectangle(roi_color, (ex, ey), (ex+ew, ey+eh), (0, 255, 0), 2)\n",
    "\n",
    "    cv2.imshow('Detected Faces and Eyes', img)\n",
    "    if cv2.waitKey(1) & 0xFF == ord('q'):\n",
    "        break\n",
    "\n",
    "cap.release()\n",
    "cv2.destroyAllWindows()\n",
    "\n",
    "\n",
    "\"\"\"       \n",
    "import cv2\n",
    "\n",
    "# Load the image\n",
    "img = cv2.imread('face.jpg')\n",
    "gray = cv2.cvtColor(img, cv2.COLOR_BGR2GRAY)  # Convert the image to grayscale\n",
    "\n",
    "# Load the face and eye cascade classifiers\n",
    "faceCascade = cv2.CascadeClassifier(cv2.data.haarcascades + 'haarcascade_frontalface_default.xml')\n",
    "eyecas = cv2.CascadeClassifier(cv2.data.haarcascades + 'haarcascade_eye_tree_eyeglasses.xml')\n",
    "\n",
    "# Detect faces\n",
    "faces = faceCascade.detectMultiScale(gray, scaleFactor=1.1, minNeighbors=4)\n",
    "\n",
    "# Iterate through detected faces\n",
    "for (x, y, w, h) in faces:\n",
    "    cv2.rectangle(img, (x, y), (x + w, y + h), (255, 0, 0), 3)\n",
    "    cv2.putText(img, \"Face\", (x, y - 4), cv2.FONT_HERSHEY_COMPLEX, 1, (255, 255, 255), 2)\n",
    "\n",
    "    # Region of interest (ROI) for eyes within the detected face\n",
    "    roi_gray = gray[y:y + h, x:x + w]\n",
    "    roi_color = img[y:y + h, x:x + w]\n",
    "\n",
    "    # Detect eyes within the ROI\n",
    "    eyes = eyecas.detectMultiScale(roi_gray, scaleFactor=1.1, minNeighbors=4)\n",
    "    \n",
    "    # Iterate through detected eyes\n",
    "    for (ex, ey, ew, eh) in eyes:\n",
    "        cv2.rectangle(roi_color, (ex, ey), (ex + ew, ey + eh), (0, 255, 0), 3)\n",
    "        cv2.putText(roi_color, \"Eye\", (ex, ey - 4), cv2.FONT_HERSHEY_COMPLEX, 0.7, (0, 255, 0), 2)\n",
    "\n",
    "# Display the image with detections\n",
    "cv2.imshow('Detected Faces and Eyes', img)\n",
    "cv2.waitKey(0)\n",
    "cv2.destroyAllWindows()\n",
    "\"\"\""
   ]
  },
  {
   "cell_type": "code",
   "execution_count": null,
   "id": "ed5db3a1",
   "metadata": {},
   "outputs": [],
   "source": []
  },
  {
   "cell_type": "code",
   "execution_count": null,
   "id": "1c055b63",
   "metadata": {},
   "outputs": [],
   "source": []
  }
 ],
 "metadata": {
  "kernelspec": {
   "display_name": "Python 3 (ipykernel)",
   "language": "python",
   "name": "python3"
  },
  "language_info": {
   "codemirror_mode": {
    "name": "ipython",
    "version": 3
   },
   "file_extension": ".py",
   "mimetype": "text/x-python",
   "name": "python",
   "nbconvert_exporter": "python",
   "pygments_lexer": "ipython3",
   "version": "3.11.4"
  }
 },
 "nbformat": 4,
 "nbformat_minor": 5
}
